{
  "nbformat": 4,
  "nbformat_minor": 0,
  "metadata": {
    "colab": {
      "provenance": []
    },
    "kernelspec": {
      "name": "python3",
      "display_name": "Python 3"
    },
    "language_info": {
      "name": "python"
    }
  },
  "cells": [
    {
      "cell_type": "markdown",
      "source": [
        "Q1: Function to Flatten List and Calculate Product\n",
        "\n",
        "**Answer:**\n",
        "This function will:\n",
        "\n",
        "1. Flatten the given list and extract all numeric values.\n",
        "2. Include numeric keys and values from dictionaries.\n",
        "3. Calculate the product of all the numeric values."
      ],
      "metadata": {
        "id": "m9S9DRgr0W9I"
      }
    },
    {
      "cell_type": "code",
      "execution_count": 1,
      "metadata": {
        "colab": {
          "base_uri": "https://localhost:8080/"
        },
        "id": "J7ksK6gi0TRG",
        "outputId": "8acdcfbc-0b59-47d0-8637-4baaf16825d2"
      },
      "outputs": [
        {
          "output_type": "stream",
          "name": "stdout",
          "text": [
            "Product of all numeric values: 4134711838987085478833841242112000\n"
          ]
        }
      ],
      "source": [
        "from functools import reduce\n",
        "\n",
        "def flatten_and_product(input_list):\n",
        "    # Helper function to flatten the list\n",
        "    def flatten(lst):\n",
        "        flat_list = []\n",
        "        for item in lst:\n",
        "            if isinstance(item, (list, set, tuple)):\n",
        "                flat_list.extend(flatten(item))\n",
        "            elif isinstance(item, dict):\n",
        "                flat_list.extend(flatten(item.keys()))  # Flatten keys\n",
        "                flat_list.extend(flatten(item.values()))  # Flatten values\n",
        "            elif isinstance(item, (int, float)) and not isinstance(item, bool):  # Include only numbers\n",
        "                flat_list.append(item)\n",
        "        return flat_list\n",
        "\n",
        "    # Flatten the list\n",
        "    flat_list = flatten(input_list)\n",
        "\n",
        "    # Calculate product of all numeric values\n",
        "    if flat_list:\n",
        "        product = reduce(lambda x, y: x * y, flat_list)\n",
        "    else:\n",
        "        product = 0  # Handle case with no numeric values\n",
        "\n",
        "    return product\n",
        "\n",
        "# Test case\n",
        "list1 = [1, 2, 3, 4, [44, 55, 66, True], False, (34, 56, 78, 89, 34),\n",
        "         {1, 2, 3, 3, 2, 1}, {1: 34, \"key2\": [55, 67, 78, 89], 4: (45, 22, 61, 34)},\n",
        "         [56, 'data science'], 'Machine Learning']\n",
        "\n",
        "result = flatten_and_product(list1)\n",
        "print(\"Product of all numeric values:\", result)\n"
      ]
    },
    {
      "cell_type": "markdown",
      "source": [
        "Q2: Encryption Program\n",
        "**Answer:**\n",
        "The logic will:\n",
        "\n",
        "1. Replace each letter with its reverse counterpart (a→z, b→y, etc.).\n",
        "2. Replace spaces with $.\n",
        "3. Keep punctuation unchanged."
      ],
      "metadata": {
        "id": "3ttLrI0700KI"
      }
    },
    {
      "cell_type": "code",
      "source": [
        "def encrypt_message(message):\n",
        "    # Create a mapping for reverse alphabet\n",
        "    import string\n",
        "    alphabets = string.ascii_lowercase\n",
        "    reverse_alphabets = alphabets[::-1]\n",
        "    encrypt_dict = {alphabets[i]: reverse_alphabets[i] for i in range(len(alphabets))}\n",
        "\n",
        "    # Encrypt the message\n",
        "    encrypted_message = ''\n",
        "    for char in message.lower():\n",
        "        if char in encrypt_dict:\n",
        "            encrypted_message += encrypt_dict[char]\n",
        "        elif char == ' ':\n",
        "            encrypted_message += '$'\n",
        "        else:\n",
        "            encrypted_message += char  # Keep punctuation unchanged\n",
        "\n",
        "    return encrypted_message\n",
        "\n",
        "# Input Sentence\n",
        "input_sentence = \"I want to become a Data Scientist.\"\n",
        "encrypted_sentence = encrypt_message(input_sentence)\n",
        "print(\"Encrypted Sentence:\", encrypted_sentence)\n"
      ],
      "metadata": {
        "colab": {
          "base_uri": "https://localhost:8080/"
        },
        "id": "t-rXH0n_09Hr",
        "outputId": "bb242630-4bf2-4fa1-a500-e2c8ba274434"
      },
      "execution_count": 2,
      "outputs": [
        {
          "output_type": "stream",
          "name": "stdout",
          "text": [
            "Encrypted Sentence: r$dzmg$gl$yvxlnv$z$wzgz$hxrvmgrhg.\n"
          ]
        }
      ]
    },
    {
      "cell_type": "markdown",
      "source": [],
      "metadata": {
        "id": "4C1BsDqW1CJQ"
      }
    }
  ]
}